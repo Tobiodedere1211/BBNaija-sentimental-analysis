{
 "cells": [
  {
   "cell_type": "code",
   "execution_count": 1,
   "id": "e0d9ad37",
   "metadata": {
    "ExecuteTime": {
     "end_time": "2025-08-03T22:02:53.360646Z",
     "start_time": "2025-08-03T22:02:50.686767Z"
    }
   },
   "outputs": [],
   "source": [
    "import pandas as pd\n",
    "from tqdm.notebook import tqdm\n",
    "import snscrape.modules.twitter as sntwitter"
   ]
  },
  {
   "cell_type": "code",
   "execution_count": 4,
   "id": "401fe7a6",
   "metadata": {
    "ExecuteTime": {
     "end_time": "2025-08-03T22:04:09.855670Z",
     "start_time": "2025-08-03T22:04:09.848017Z"
    }
   },
   "outputs": [],
   "source": [
    "# Scrapping data from twitter with the hashtag BBNaijaS10\n",
    "scrapper = sntwitter.TwitterSearchScraper('#python')"
   ]
  },
  {
   "cell_type": "code",
   "execution_count": 5,
   "id": "8564e830",
   "metadata": {
    "ExecuteTime": {
     "end_time": "2025-08-03T22:04:11.298543Z",
     "start_time": "2025-08-03T22:04:11.277114Z"
    }
   },
   "outputs": [
    {
     "data": {
      "text/plain": [
       "<snscrape.modules.twitter.TwitterSearchScraper at 0x1a80d8cd550>"
      ]
     },
     "execution_count": 5,
     "metadata": {},
     "output_type": "execute_result"
    }
   ],
   "source": [
    "scrapper"
   ]
  },
  {
   "cell_type": "code",
   "execution_count": null,
   "id": "043307f7",
   "metadata": {
    "ExecuteTime": {
     "end_time": "2025-08-03T22:10:36.416580Z",
     "start_time": "2025-08-03T22:10:17.790194Z"
    }
   },
   "outputs": [],
   "source": []
  },
  {
   "cell_type": "code",
   "execution_count": 11,
   "id": "471c3d3e",
   "metadata": {
    "ExecuteTime": {
     "end_time": "2025-08-03T22:18:02.517573Z",
     "start_time": "2025-08-03T22:18:02.433050Z"
    }
   },
   "outputs": [
    {
     "name": "stdout",
     "output_type": "stream",
     "text": [
      "Python 3.11.5\n"
     ]
    }
   ],
   "source": [
    "!python --version"
   ]
  },
  {
   "cell_type": "code",
   "execution_count": null,
   "id": "9979cea2",
   "metadata": {},
   "outputs": [],
   "source": []
  }
 ],
 "metadata": {
  "kernelspec": {
   "display_name": "Python 3 (ipykernel)",
   "language": "python",
   "name": "python3"
  },
  "language_info": {
   "codemirror_mode": {
    "name": "ipython",
    "version": 3
   },
   "file_extension": ".py",
   "mimetype": "text/x-python",
   "name": "python",
   "nbconvert_exporter": "python",
   "pygments_lexer": "ipython3",
   "version": "3.11.5"
  },
  "toc": {
   "base_numbering": 1,
   "nav_menu": {},
   "number_sections": true,
   "sideBar": true,
   "skip_h1_title": false,
   "title_cell": "Table of Contents",
   "title_sidebar": "Contents",
   "toc_cell": false,
   "toc_position": {},
   "toc_section_display": true,
   "toc_window_display": false
  },
  "varInspector": {
   "cols": {
    "lenName": 16,
    "lenType": 16,
    "lenVar": 40
   },
   "kernels_config": {
    "python": {
     "delete_cmd_postfix": "",
     "delete_cmd_prefix": "del ",
     "library": "var_list.py",
     "varRefreshCmd": "print(var_dic_list())"
    },
    "r": {
     "delete_cmd_postfix": ") ",
     "delete_cmd_prefix": "rm(",
     "library": "var_list.r",
     "varRefreshCmd": "cat(var_dic_list()) "
    }
   },
   "types_to_exclude": [
    "module",
    "function",
    "builtin_function_or_method",
    "instance",
    "_Feature"
   ],
   "window_display": false
  }
 },
 "nbformat": 4,
 "nbformat_minor": 5
}
