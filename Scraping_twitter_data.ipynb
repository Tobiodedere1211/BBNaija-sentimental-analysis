{
 "cells": [
  {
   "cell_type": "code",
   "execution_count": 4,
   "id": "f409a6cf",
   "metadata": {
    "ExecuteTime": {
     "end_time": "2025-08-07T16:11:41.965247Z",
     "start_time": "2025-08-07T16:11:41.957827Z"
    }
   },
   "outputs": [],
   "source": [
    "import tweepy\n",
    "from datetime import datetime\n",
    "from datetime import timedelta\n",
    "import pandas as pd\n"
   ]
  },
  {
   "cell_type": "code",
   "execution_count": null,
   "id": "08918c19",
   "metadata": {
    "ExecuteTime": {
     "end_time": "2025-08-07T11:15:28.255300Z",
     "start_time": "2025-08-07T11:14:58.455821Z"
    }
   },
   "outputs": [],
   "source": [
    "auth = tweepy.OAuth1UserHandler(api_key, api_secret_key)\n",
    "api = tweepy.API(auth)\n",
    "\n",
    "# Create a function to get tweets\n",
    "def get_tweets(keyword, until, count):\n",
    "    tweets = []\n",
    "    for tweet in tweepy.Cursor(api.search_tweets, q=keyword, until=until).items(count):\n",
    "        tweets.append(tweet)\n",
    "        \n",
    "    return tweets\n",
    "\n",
    "keyword = 'Elon Musk'\n",
    "count = 5\n",
    "until = datetime.now().strftime(\"%Y-%m-%d\")\n",
    "\n",
    "\n",
    "tweets = get_tweets(keyword, until, count)\n",
    "\n",
    "for data in tweets:\n",
    "    for tweets in data:\n",
    "        print(tweet.text)\n",
    "        \n",
    "\n",
    "    "
   ]
  },
  {
   "cell_type": "code",
   "execution_count": null,
   "id": "eb4c6b04",
   "metadata": {},
   "outputs": [],
   "source": [
    "# to get tweet for the past seven days\n",
    "tweets = list()\n",
    "\n",
    "i = 0\n",
    "while i < 7:\n",
    "    until = (datetime.now() - timedelta(days=i)).strftime(\"%Y-%m-%d\")\n",
    "    tweet_data = get_tweets(keyword, until, count)\n",
    "    tweets.append(tweet_data)\n",
    "    i=+1\n",
    "\n",
    "    \n"
   ]
  },
  {
   "cell_type": "code",
   "execution_count": 5,
   "id": "5ea3fc90",
   "metadata": {
    "ExecuteTime": {
     "end_time": "2025-08-07T16:18:42.628856Z",
     "start_time": "2025-08-07T16:18:42.400122Z"
    }
   },
   "outputs": [
    {
     "name": "stdout",
     "output_type": "stream",
     "text": [
      "On branch main\n",
      "Your branch is up to date with 'origin/main'.\n",
      "\n",
      "Changes to be committed:\n",
      "  (use \"git restore --staged <file>...\" to unstage)\n",
      "\tmodified:   sentimental-analysis.ipynb\n",
      "\n",
      "Changes not staged for commit:\n",
      "  (use \"git add <file>...\" to update what will be committed)\n",
      "  (use \"git restore <file>...\" to discard changes in working directory)\n",
      "\tmodified:   sentimental-analysis.ipynb\n",
      "\n",
      "Untracked files:\n",
      "  (use \"git add <file>...\" to include in what will be committed)\n",
      "\tScraping_twitter_data.ipynb\n",
      "\n"
     ]
    }
   ],
   "source": [
    "!git status"
   ]
  }
 ],
 "metadata": {
  "kernelspec": {
   "display_name": "Python 3 (ipykernel)",
   "language": "python",
   "name": "python3"
  },
  "language_info": {
   "codemirror_mode": {
    "name": "ipython",
    "version": 3
   },
   "file_extension": ".py",
   "mimetype": "text/x-python",
   "name": "python",
   "nbconvert_exporter": "python",
   "pygments_lexer": "ipython3",
   "version": "3.11.5"
  },
  "toc": {
   "base_numbering": 1,
   "nav_menu": {},
   "number_sections": true,
   "sideBar": true,
   "skip_h1_title": false,
   "title_cell": "Table of Contents",
   "title_sidebar": "Contents",
   "toc_cell": false,
   "toc_position": {},
   "toc_section_display": true,
   "toc_window_display": false
  },
  "varInspector": {
   "cols": {
    "lenName": 16,
    "lenType": 16,
    "lenVar": 40
   },
   "kernels_config": {
    "python": {
     "delete_cmd_postfix": "",
     "delete_cmd_prefix": "del ",
     "library": "var_list.py",
     "varRefreshCmd": "print(var_dic_list())"
    },
    "r": {
     "delete_cmd_postfix": ") ",
     "delete_cmd_prefix": "rm(",
     "library": "var_list.r",
     "varRefreshCmd": "cat(var_dic_list()) "
    }
   },
   "types_to_exclude": [
    "module",
    "function",
    "builtin_function_or_method",
    "instance",
    "_Feature"
   ],
   "window_display": false
  }
 },
 "nbformat": 4,
 "nbformat_minor": 5
}
